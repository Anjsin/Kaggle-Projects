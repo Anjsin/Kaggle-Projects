{
 "cells": [
  {
   "cell_type": "code",
   "execution_count": 1,
   "id": "1afaf7dd",
   "metadata": {
    "_cell_guid": "66ffdd02-9af8-4a45-8f7d-b9075ef1b0b7",
    "_uuid": "76afd0e8-03de-4ca8-9d72-a28d151239dc",
    "collapsed": false,
    "execution": {
     "iopub.execute_input": "2022-02-01T18:37:21.057584Z",
     "iopub.status.busy": "2022-02-01T18:37:21.056361Z",
     "iopub.status.idle": "2022-02-01T18:37:21.074608Z",
     "shell.execute_reply": "2022-02-01T18:37:21.075233Z"
    },
    "jupyter": {
     "outputs_hidden": false
    },
    "papermill": {
     "duration": 0.030694,
     "end_time": "2022-02-01T18:37:21.075534",
     "exception": false,
     "start_time": "2022-02-01T18:37:21.044840",
     "status": "completed"
    },
    "tags": []
   },
   "outputs": [
    {
     "name": "stdout",
     "output_type": "stream",
     "text": [
      "/kaggle/input/cardiogoodfitness/CardioGoodFitness.csv\n"
     ]
    }
   ],
   "source": [
    "# This Python 3 environment comes with many helpful analytics libraries installed\n",
    "# It is defined by the kaggle/python Docker image: https://github.com/kaggle/docker-python\n",
    "# For example, here's several helpful packages to load\n",
    "\n",
    "import numpy as np # linear algebra\n",
    "import pandas as pd # data processing, CSV file I/O (e.g. pd.read_csv)\n",
    "\n",
    "# Input data files are available in the read-only \"../input/\" directory\n",
    "# For example, running this (by clicking run or pressing Shift+Enter) will list all files under the input directory\n",
    "\n",
    "import os\n",
    "for dirname, _, filenames in os.walk('/kaggle/input'):\n",
    "    for filename in filenames:\n",
    "        print(os.path.join(dirname, filename))\n",
    "\n",
    "# You can write up to 20GB to the current directory (/kaggle/working/) that gets preserved as output when you create a version using \"Save & Run All\" \n",
    "# You can also write temporary files to /kaggle/temp/, but they won't be saved outside of the current session"
   ]
  },
  {
   "cell_type": "code",
   "execution_count": 2,
   "id": "2b8ff28b",
   "metadata": {
    "_cell_guid": "5d25c3b8-dcdd-4226-8337-3633027c7709",
    "_uuid": "a4985eee-ee54-4dbc-a4b8-a8b47f4b36f2",
    "collapsed": false,
    "execution": {
     "iopub.execute_input": "2022-02-01T18:37:21.094653Z",
     "iopub.status.busy": "2022-02-01T18:37:21.094050Z",
     "iopub.status.idle": "2022-02-01T18:37:21.097123Z",
     "shell.execute_reply": "2022-02-01T18:37:21.096563Z",
     "shell.execute_reply.started": "2022-02-01T18:31:32.300125Z"
    },
    "jupyter": {
     "outputs_hidden": false
    },
    "papermill": {
     "duration": 0.01396,
     "end_time": "2022-02-01T18:37:21.097260",
     "exception": false,
     "start_time": "2022-02-01T18:37:21.083300",
     "status": "completed"
    },
    "tags": []
   },
   "outputs": [],
   "source": [
    "import numpy as np\n",
    "import pandas as pd\n",
    "import matplotlib as plt"
   ]
  },
  {
   "cell_type": "code",
   "execution_count": 3,
   "id": "629d8481",
   "metadata": {
    "_cell_guid": "e512aa4f-fa68-434a-a539-737882cc5d4a",
    "_uuid": "5d4c50be-a1c2-45e2-a194-ad6cce0a6614",
    "collapsed": false,
    "execution": {
     "iopub.execute_input": "2022-02-01T18:37:21.115444Z",
     "iopub.status.busy": "2022-02-01T18:37:21.114696Z",
     "iopub.status.idle": "2022-02-01T18:37:21.126649Z",
     "shell.execute_reply": "2022-02-01T18:37:21.127237Z",
     "shell.execute_reply.started": "2022-02-01T18:31:59.219778Z"
    },
    "jupyter": {
     "outputs_hidden": false
    },
    "papermill": {
     "duration": 0.023432,
     "end_time": "2022-02-01T18:37:21.127423",
     "exception": false,
     "start_time": "2022-02-01T18:37:21.103991",
     "status": "completed"
    },
    "tags": []
   },
   "outputs": [],
   "source": [
    "data = pd.read_csv(\"../input/cardiogoodfitness/CardioGoodFitness.csv\")"
   ]
  },
  {
   "cell_type": "code",
   "execution_count": 4,
   "id": "51792f84",
   "metadata": {
    "execution": {
     "iopub.execute_input": "2022-02-01T18:37:21.150600Z",
     "iopub.status.busy": "2022-02-01T18:37:21.149674Z",
     "iopub.status.idle": "2022-02-01T18:37:21.165545Z",
     "shell.execute_reply": "2022-02-01T18:37:21.166055Z",
     "shell.execute_reply.started": "2022-02-01T18:33:05.039665Z"
    },
    "papermill": {
     "duration": 0.031783,
     "end_time": "2022-02-01T18:37:21.166229",
     "exception": false,
     "start_time": "2022-02-01T18:37:21.134446",
     "status": "completed"
    },
    "tags": []
   },
   "outputs": [
    {
     "data": {
      "text/html": [
       "<div>\n",
       "<style scoped>\n",
       "    .dataframe tbody tr th:only-of-type {\n",
       "        vertical-align: middle;\n",
       "    }\n",
       "\n",
       "    .dataframe tbody tr th {\n",
       "        vertical-align: top;\n",
       "    }\n",
       "\n",
       "    .dataframe thead th {\n",
       "        text-align: right;\n",
       "    }\n",
       "</style>\n",
       "<table border=\"1\" class=\"dataframe\">\n",
       "  <thead>\n",
       "    <tr style=\"text-align: right;\">\n",
       "      <th></th>\n",
       "      <th>Product</th>\n",
       "      <th>Age</th>\n",
       "      <th>Gender</th>\n",
       "      <th>Education</th>\n",
       "      <th>MaritalStatus</th>\n",
       "      <th>Usage</th>\n",
       "      <th>Fitness</th>\n",
       "      <th>Income</th>\n",
       "      <th>Miles</th>\n",
       "    </tr>\n",
       "  </thead>\n",
       "  <tbody>\n",
       "    <tr>\n",
       "      <th>0</th>\n",
       "      <td>TM195</td>\n",
       "      <td>18</td>\n",
       "      <td>Male</td>\n",
       "      <td>14</td>\n",
       "      <td>Single</td>\n",
       "      <td>3</td>\n",
       "      <td>4</td>\n",
       "      <td>29562</td>\n",
       "      <td>112</td>\n",
       "    </tr>\n",
       "    <tr>\n",
       "      <th>1</th>\n",
       "      <td>TM195</td>\n",
       "      <td>19</td>\n",
       "      <td>Male</td>\n",
       "      <td>15</td>\n",
       "      <td>Single</td>\n",
       "      <td>2</td>\n",
       "      <td>3</td>\n",
       "      <td>31836</td>\n",
       "      <td>75</td>\n",
       "    </tr>\n",
       "    <tr>\n",
       "      <th>2</th>\n",
       "      <td>TM195</td>\n",
       "      <td>19</td>\n",
       "      <td>Female</td>\n",
       "      <td>14</td>\n",
       "      <td>Partnered</td>\n",
       "      <td>4</td>\n",
       "      <td>3</td>\n",
       "      <td>30699</td>\n",
       "      <td>66</td>\n",
       "    </tr>\n",
       "    <tr>\n",
       "      <th>3</th>\n",
       "      <td>TM195</td>\n",
       "      <td>19</td>\n",
       "      <td>Male</td>\n",
       "      <td>12</td>\n",
       "      <td>Single</td>\n",
       "      <td>3</td>\n",
       "      <td>3</td>\n",
       "      <td>32973</td>\n",
       "      <td>85</td>\n",
       "    </tr>\n",
       "    <tr>\n",
       "      <th>4</th>\n",
       "      <td>TM195</td>\n",
       "      <td>20</td>\n",
       "      <td>Male</td>\n",
       "      <td>13</td>\n",
       "      <td>Partnered</td>\n",
       "      <td>4</td>\n",
       "      <td>2</td>\n",
       "      <td>35247</td>\n",
       "      <td>47</td>\n",
       "    </tr>\n",
       "  </tbody>\n",
       "</table>\n",
       "</div>"
      ],
      "text/plain": [
       "  Product  Age  Gender  Education MaritalStatus  Usage  Fitness  Income  Miles\n",
       "0   TM195   18    Male         14        Single      3        4   29562    112\n",
       "1   TM195   19    Male         15        Single      2        3   31836     75\n",
       "2   TM195   19  Female         14     Partnered      4        3   30699     66\n",
       "3   TM195   19    Male         12        Single      3        3   32973     85\n",
       "4   TM195   20    Male         13     Partnered      4        2   35247     47"
      ]
     },
     "execution_count": 4,
     "metadata": {},
     "output_type": "execute_result"
    }
   ],
   "source": [
    "data.head()"
   ]
  },
  {
   "cell_type": "code",
   "execution_count": 5,
   "id": "17a7f4c8",
   "metadata": {
    "execution": {
     "iopub.execute_input": "2022-02-01T18:37:21.186317Z",
     "iopub.status.busy": "2022-02-01T18:37:21.183274Z",
     "iopub.status.idle": "2022-02-01T18:37:21.189465Z",
     "shell.execute_reply": "2022-02-01T18:37:21.190023Z",
     "shell.execute_reply.started": "2022-02-01T18:33:28.709506Z"
    },
    "papermill": {
     "duration": 0.016719,
     "end_time": "2022-02-01T18:37:21.190207",
     "exception": false,
     "start_time": "2022-02-01T18:37:21.173488",
     "status": "completed"
    },
    "tags": []
   },
   "outputs": [
    {
     "data": {
      "text/plain": [
       "(180, 9)"
      ]
     },
     "execution_count": 5,
     "metadata": {},
     "output_type": "execute_result"
    }
   ],
   "source": [
    "data.shape"
   ]
  },
  {
   "cell_type": "code",
   "execution_count": null,
   "id": "7992e8a7",
   "metadata": {
    "papermill": {
     "duration": 0.007201,
     "end_time": "2022-02-01T18:37:21.205294",
     "exception": false,
     "start_time": "2022-02-01T18:37:21.198093",
     "status": "completed"
    },
    "tags": []
   },
   "outputs": [],
   "source": []
  }
 ],
 "metadata": {
  "kernelspec": {
   "display_name": "Python 3",
   "language": "python",
   "name": "python3"
  },
  "language_info": {
   "codemirror_mode": {
    "name": "ipython",
    "version": 3
   },
   "file_extension": ".py",
   "mimetype": "text/x-python",
   "name": "python",
   "nbconvert_exporter": "python",
   "pygments_lexer": "ipython3",
   "version": "3.7.12"
  },
  "papermill": {
   "default_parameters": {},
   "duration": 10.990899,
   "end_time": "2022-02-01T18:37:21.823614",
   "environment_variables": {},
   "exception": null,
   "input_path": "__notebook__.ipynb",
   "output_path": "__notebook__.ipynb",
   "parameters": {},
   "start_time": "2022-02-01T18:37:10.832715",
   "version": "2.3.3"
  }
 },
 "nbformat": 4,
 "nbformat_minor": 5
}
