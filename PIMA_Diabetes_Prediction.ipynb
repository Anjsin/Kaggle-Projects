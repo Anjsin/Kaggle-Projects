{
 "cells": [
  {
   "cell_type": "code",
   "execution_count": 1,
   "id": "7627a5e4",
   "metadata": {
    "_cell_guid": "b1076dfc-b9ad-4769-8c92-a6c4dae69d19",
    "_uuid": "8f2839f25d086af736a60e9eeb907d3b93b6e0e5",
    "execution": {
     "iopub.execute_input": "2022-01-28T14:20:46.599846Z",
     "iopub.status.busy": "2022-01-28T14:20:46.597897Z",
     "iopub.status.idle": "2022-01-28T14:20:46.620415Z",
     "shell.execute_reply": "2022-01-28T14:20:46.620995Z",
     "shell.execute_reply.started": "2022-01-28T14:19:11.147074Z"
    },
    "papermill": {
     "duration": 0.049396,
     "end_time": "2022-01-28T14:20:46.621314",
     "exception": false,
     "start_time": "2022-01-28T14:20:46.571918",
     "status": "completed"
    },
    "tags": []
   },
   "outputs": [
    {
     "name": "stdout",
     "output_type": "stream",
     "text": [
      "/kaggle/input/pimadatacsv/pima-data.csv\n"
     ]
    }
   ],
   "source": [
    "# This Python 3 environment comes with many helpful analytics libraries installed\n",
    "# It is defined by the kaggle/python Docker image: https://github.com/kaggle/docker-python\n",
    "# For example, here's several helpful packages to load\n",
    "\n",
    "import numpy as np # linear algebra\n",
    "import pandas as pd # data processing, CSV file I/O (e.g. pd.read_csv)\n",
    "\n",
    "# Input data files are available in the read-only \"../input/\" directory\n",
    "# For example, running this (by clicking run or pressing Shift+Enter) will list all files under the input directory\n",
    "\n",
    "import os\n",
    "for dirname, _, filenames in os.walk('/kaggle/input'):\n",
    "    for filename in filenames:\n",
    "        print(os.path.join(dirname, filename))\n",
    "\n",
    "# You can write up to 20GB to the current directory (/kaggle/working/) that gets preserved as output when you create a version using \"Save & Run All\" \n",
    "# You can also write temporary files to /kaggle/temp/, but they won't be saved outside of the current session"
   ]
  },
  {
   "cell_type": "code",
   "execution_count": 2,
   "id": "f56cfdc6",
   "metadata": {
    "execution": {
     "iopub.execute_input": "2022-01-28T14:20:46.666363Z",
     "iopub.status.busy": "2022-01-28T14:20:46.665483Z",
     "iopub.status.idle": "2022-01-28T14:20:46.668595Z",
     "shell.execute_reply": "2022-01-28T14:20:46.667913Z",
     "shell.execute_reply.started": "2022-01-28T14:19:11.159526Z"
    },
    "papermill": {
     "duration": 0.027478,
     "end_time": "2022-01-28T14:20:46.668747",
     "exception": false,
     "start_time": "2022-01-28T14:20:46.641269",
     "status": "completed"
    },
    "tags": []
   },
   "outputs": [],
   "source": [
    "#Feature Engineering\n",
    "\n",
    "import pandas as pd\n",
    "import numpy as np\n",
    "import matplotlib.pyplot as plt"
   ]
  },
  {
   "cell_type": "code",
   "execution_count": 3,
   "id": "33ae6889",
   "metadata": {
    "execution": {
     "iopub.execute_input": "2022-01-28T14:20:46.712417Z",
     "iopub.status.busy": "2022-01-28T14:20:46.711698Z",
     "iopub.status.idle": "2022-01-28T14:20:46.728936Z",
     "shell.execute_reply": "2022-01-28T14:20:46.729667Z",
     "shell.execute_reply.started": "2022-01-28T14:19:11.175336Z"
    },
    "papermill": {
     "duration": 0.041866,
     "end_time": "2022-01-28T14:20:46.729897",
     "exception": false,
     "start_time": "2022-01-28T14:20:46.688031",
     "status": "completed"
    },
    "tags": []
   },
   "outputs": [],
   "source": [
    "data=pd.read_csv(\"../input/pimadatacsv/pima-data.csv\")"
   ]
  },
  {
   "cell_type": "code",
   "execution_count": 4,
   "id": "6fd98f43",
   "metadata": {
    "execution": {
     "iopub.execute_input": "2022-01-28T14:20:46.773393Z",
     "iopub.status.busy": "2022-01-28T14:20:46.772262Z",
     "iopub.status.idle": "2022-01-28T14:20:46.780221Z",
     "shell.execute_reply": "2022-01-28T14:20:46.780732Z",
     "shell.execute_reply.started": "2022-01-28T14:19:11.196764Z"
    },
    "papermill": {
     "duration": 0.031563,
     "end_time": "2022-01-28T14:20:46.780912",
     "exception": false,
     "start_time": "2022-01-28T14:20:46.749349",
     "status": "completed"
    },
    "tags": []
   },
   "outputs": [
    {
     "data": {
      "text/plain": [
       "(768, 10)"
      ]
     },
     "execution_count": 4,
     "metadata": {},
     "output_type": "execute_result"
    }
   ],
   "source": [
    "data.shape"
   ]
  },
  {
   "cell_type": "code",
   "execution_count": 5,
   "id": "0e987a18",
   "metadata": {
    "execution": {
     "iopub.execute_input": "2022-01-28T14:20:46.827183Z",
     "iopub.status.busy": "2022-01-28T14:20:46.823048Z",
     "iopub.status.idle": "2022-01-28T14:20:46.848338Z",
     "shell.execute_reply": "2022-01-28T14:20:46.847591Z",
     "shell.execute_reply.started": "2022-01-28T14:19:11.209880Z"
    },
    "papermill": {
     "duration": 0.048312,
     "end_time": "2022-01-28T14:20:46.848498",
     "exception": false,
     "start_time": "2022-01-28T14:20:46.800186",
     "status": "completed"
    },
    "tags": []
   },
   "outputs": [
    {
     "data": {
      "text/html": [
       "<div>\n",
       "<style scoped>\n",
       "    .dataframe tbody tr th:only-of-type {\n",
       "        vertical-align: middle;\n",
       "    }\n",
       "\n",
       "    .dataframe tbody tr th {\n",
       "        vertical-align: top;\n",
       "    }\n",
       "\n",
       "    .dataframe thead th {\n",
       "        text-align: right;\n",
       "    }\n",
       "</style>\n",
       "<table border=\"1\" class=\"dataframe\">\n",
       "  <thead>\n",
       "    <tr style=\"text-align: right;\">\n",
       "      <th></th>\n",
       "      <th>num_preg</th>\n",
       "      <th>glucose_conc</th>\n",
       "      <th>diastolic_bp</th>\n",
       "      <th>thickness</th>\n",
       "      <th>insulin</th>\n",
       "      <th>bmi</th>\n",
       "      <th>diab_pred</th>\n",
       "      <th>age</th>\n",
       "      <th>skin</th>\n",
       "      <th>diabetes</th>\n",
       "    </tr>\n",
       "  </thead>\n",
       "  <tbody>\n",
       "    <tr>\n",
       "      <th>0</th>\n",
       "      <td>6</td>\n",
       "      <td>148</td>\n",
       "      <td>72</td>\n",
       "      <td>35</td>\n",
       "      <td>0</td>\n",
       "      <td>33.6</td>\n",
       "      <td>0.627</td>\n",
       "      <td>50</td>\n",
       "      <td>1.3790</td>\n",
       "      <td>True</td>\n",
       "    </tr>\n",
       "    <tr>\n",
       "      <th>1</th>\n",
       "      <td>1</td>\n",
       "      <td>85</td>\n",
       "      <td>66</td>\n",
       "      <td>29</td>\n",
       "      <td>0</td>\n",
       "      <td>26.6</td>\n",
       "      <td>0.351</td>\n",
       "      <td>31</td>\n",
       "      <td>1.1426</td>\n",
       "      <td>False</td>\n",
       "    </tr>\n",
       "    <tr>\n",
       "      <th>2</th>\n",
       "      <td>8</td>\n",
       "      <td>183</td>\n",
       "      <td>64</td>\n",
       "      <td>0</td>\n",
       "      <td>0</td>\n",
       "      <td>23.3</td>\n",
       "      <td>0.672</td>\n",
       "      <td>32</td>\n",
       "      <td>0.0000</td>\n",
       "      <td>True</td>\n",
       "    </tr>\n",
       "    <tr>\n",
       "      <th>3</th>\n",
       "      <td>1</td>\n",
       "      <td>89</td>\n",
       "      <td>66</td>\n",
       "      <td>23</td>\n",
       "      <td>94</td>\n",
       "      <td>28.1</td>\n",
       "      <td>0.167</td>\n",
       "      <td>21</td>\n",
       "      <td>0.9062</td>\n",
       "      <td>False</td>\n",
       "    </tr>\n",
       "    <tr>\n",
       "      <th>4</th>\n",
       "      <td>0</td>\n",
       "      <td>137</td>\n",
       "      <td>40</td>\n",
       "      <td>35</td>\n",
       "      <td>168</td>\n",
       "      <td>43.1</td>\n",
       "      <td>2.288</td>\n",
       "      <td>33</td>\n",
       "      <td>1.3790</td>\n",
       "      <td>True</td>\n",
       "    </tr>\n",
       "    <tr>\n",
       "      <th>5</th>\n",
       "      <td>5</td>\n",
       "      <td>116</td>\n",
       "      <td>74</td>\n",
       "      <td>0</td>\n",
       "      <td>0</td>\n",
       "      <td>25.6</td>\n",
       "      <td>0.201</td>\n",
       "      <td>30</td>\n",
       "      <td>0.0000</td>\n",
       "      <td>False</td>\n",
       "    </tr>\n",
       "    <tr>\n",
       "      <th>6</th>\n",
       "      <td>3</td>\n",
       "      <td>78</td>\n",
       "      <td>50</td>\n",
       "      <td>32</td>\n",
       "      <td>88</td>\n",
       "      <td>31.0</td>\n",
       "      <td>0.248</td>\n",
       "      <td>26</td>\n",
       "      <td>1.2608</td>\n",
       "      <td>True</td>\n",
       "    </tr>\n",
       "    <tr>\n",
       "      <th>7</th>\n",
       "      <td>10</td>\n",
       "      <td>115</td>\n",
       "      <td>0</td>\n",
       "      <td>0</td>\n",
       "      <td>0</td>\n",
       "      <td>35.3</td>\n",
       "      <td>0.134</td>\n",
       "      <td>29</td>\n",
       "      <td>0.0000</td>\n",
       "      <td>False</td>\n",
       "    </tr>\n",
       "    <tr>\n",
       "      <th>8</th>\n",
       "      <td>2</td>\n",
       "      <td>197</td>\n",
       "      <td>70</td>\n",
       "      <td>45</td>\n",
       "      <td>543</td>\n",
       "      <td>30.5</td>\n",
       "      <td>0.158</td>\n",
       "      <td>53</td>\n",
       "      <td>1.7730</td>\n",
       "      <td>True</td>\n",
       "    </tr>\n",
       "    <tr>\n",
       "      <th>9</th>\n",
       "      <td>8</td>\n",
       "      <td>125</td>\n",
       "      <td>96</td>\n",
       "      <td>0</td>\n",
       "      <td>0</td>\n",
       "      <td>0.0</td>\n",
       "      <td>0.232</td>\n",
       "      <td>54</td>\n",
       "      <td>0.0000</td>\n",
       "      <td>True</td>\n",
       "    </tr>\n",
       "  </tbody>\n",
       "</table>\n",
       "</div>"
      ],
      "text/plain": [
       "   num_preg  glucose_conc  diastolic_bp  thickness  insulin   bmi  diab_pred  \\\n",
       "0         6           148            72         35        0  33.6      0.627   \n",
       "1         1            85            66         29        0  26.6      0.351   \n",
       "2         8           183            64          0        0  23.3      0.672   \n",
       "3         1            89            66         23       94  28.1      0.167   \n",
       "4         0           137            40         35      168  43.1      2.288   \n",
       "5         5           116            74          0        0  25.6      0.201   \n",
       "6         3            78            50         32       88  31.0      0.248   \n",
       "7        10           115             0          0        0  35.3      0.134   \n",
       "8         2           197            70         45      543  30.5      0.158   \n",
       "9         8           125            96          0        0   0.0      0.232   \n",
       "\n",
       "   age    skin  diabetes  \n",
       "0   50  1.3790      True  \n",
       "1   31  1.1426     False  \n",
       "2   32  0.0000      True  \n",
       "3   21  0.9062     False  \n",
       "4   33  1.3790      True  \n",
       "5   30  0.0000     False  \n",
       "6   26  1.2608      True  \n",
       "7   29  0.0000     False  \n",
       "8   53  1.7730      True  \n",
       "9   54  0.0000      True  "
      ]
     },
     "execution_count": 5,
     "metadata": {},
     "output_type": "execute_result"
    }
   ],
   "source": [
    "data.head(10)"
   ]
  },
  {
   "cell_type": "code",
   "execution_count": 6,
   "id": "14e701bf",
   "metadata": {
    "execution": {
     "iopub.execute_input": "2022-01-28T14:20:46.897222Z",
     "iopub.status.busy": "2022-01-28T14:20:46.896462Z",
     "iopub.status.idle": "2022-01-28T14:20:46.899090Z",
     "shell.execute_reply": "2022-01-28T14:20:46.899622Z",
     "shell.execute_reply.started": "2022-01-28T14:19:11.235587Z"
    },
    "papermill": {
     "duration": 0.030307,
     "end_time": "2022-01-28T14:20:46.899804",
     "exception": false,
     "start_time": "2022-01-28T14:20:46.869497",
     "status": "completed"
    },
    "tags": []
   },
   "outputs": [
    {
     "data": {
      "text/plain": [
       "False"
      ]
     },
     "execution_count": 6,
     "metadata": {},
     "output_type": "execute_result"
    }
   ],
   "source": [
    "#FE: \n",
    "#Step1  : Check for Null values in data set \n",
    "\n",
    "data.isnull().values.any()"
   ]
  },
  {
   "cell_type": "code",
   "execution_count": 7,
   "id": "8dbbc672",
   "metadata": {
    "execution": {
     "iopub.execute_input": "2022-01-28T14:20:46.944090Z",
     "iopub.status.busy": "2022-01-28T14:20:46.943358Z",
     "iopub.status.idle": "2022-01-28T14:20:48.969005Z",
     "shell.execute_reply": "2022-01-28T14:20:48.968443Z",
     "shell.execute_reply.started": "2022-01-28T14:19:11.251858Z"
    },
    "papermill": {
     "duration": 2.048999,
     "end_time": "2022-01-28T14:20:48.969172",
     "exception": false,
     "start_time": "2022-01-28T14:20:46.920173",
     "status": "completed"
    },
    "tags": []
   },
   "outputs": [
    {
     "name": "stdout",
     "output_type": "stream",
     "text": [
      "Index(['num_preg', 'glucose_conc', 'diastolic_bp', 'thickness', 'insulin',\n",
      "       'bmi', 'diab_pred', 'age', 'skin', 'diabetes'],\n",
      "      dtype='object')\n"
     ]
    },
    {
     "data": {
      "image/png": "[encoded data removed]",
      "text/plain": [
       "<Figure size 1440x1440 with 2 Axes>"
      ]
     },
     "metadata": {
      "needs_background": "light"
     },
     "output_type": "display_data"
    }
   ],
   "source": [
    "#Step 2: Find correlation\n",
    "import seaborn as sns\n",
    "import matplotlib.pyplot as plt\n",
    "#plot correlations of each features in dataset\n",
    "\n",
    "#corrrelation Matrix\n",
    "corrmat=data.corr()\n",
    "print(corrmat.index)\n",
    "\n",
    "#headers -> fields/colums, use.index\n",
    "top_corr_features=corrmat.index\n",
    "plt.figure(figsize=(20,20))\n",
    "\n",
    "#plot heat map use seaborn \n",
    "#plot_color_gradients('Diverging',\n",
    "#['PiYG', 'PRGn', 'BrBG', 'PuOr', 'RdGy', 'RdBu', 'RdYlBu','RdYlGn', 'Spectral', 'coolwarm', 'bwr', 'seismic'])\n",
    "\n",
    "g=sns.heatmap(data[top_corr_features].corr(),annot=True,cmap=\"PRGn\")\n"
   ]
  },
  {
   "cell_type": "code",
   "execution_count": 8,
   "id": "7f8063d2",
   "metadata": {
    "execution": {
     "iopub.execute_input": "2022-01-28T14:20:49.022417Z",
     "iopub.status.busy": "2022-01-28T14:20:49.021593Z",
     "iopub.status.idle": "2022-01-28T14:20:49.040208Z",
     "shell.execute_reply": "2022-01-28T14:20:49.039550Z",
     "shell.execute_reply.started": "2022-01-28T14:19:12.197719Z"
    },
    "papermill": {
     "duration": 0.046951,
     "end_time": "2022-01-28T14:20:49.040375",
     "exception": false,
     "start_time": "2022-01-28T14:20:48.993424",
     "status": "completed"
    },
    "tags": []
   },
   "outputs": [
    {
     "data": {
      "text/html": [
       "<div>\n",
       "<style scoped>\n",
       "    .dataframe tbody tr th:only-of-type {\n",
       "        vertical-align: middle;\n",
       "    }\n",
       "\n",
       "    .dataframe tbody tr th {\n",
       "        vertical-align: top;\n",
       "    }\n",
       "\n",
       "    .dataframe thead th {\n",
       "        text-align: right;\n",
       "    }\n",
       "</style>\n",
       "<table border=\"1\" class=\"dataframe\">\n",
       "  <thead>\n",
       "    <tr style=\"text-align: right;\">\n",
       "      <th></th>\n",
       "      <th>num_preg</th>\n",
       "      <th>glucose_conc</th>\n",
       "      <th>diastolic_bp</th>\n",
       "      <th>thickness</th>\n",
       "      <th>insulin</th>\n",
       "      <th>bmi</th>\n",
       "      <th>diab_pred</th>\n",
       "      <th>age</th>\n",
       "      <th>skin</th>\n",
       "      <th>diabetes</th>\n",
       "    </tr>\n",
       "  </thead>\n",
       "  <tbody>\n",
       "    <tr>\n",
       "      <th>num_preg</th>\n",
       "      <td>1.000000</td>\n",
       "      <td>0.129459</td>\n",
       "      <td>0.141282</td>\n",
       "      <td>-0.081672</td>\n",
       "      <td>-0.073535</td>\n",
       "      <td>0.017683</td>\n",
       "      <td>-0.033523</td>\n",
       "      <td>0.544341</td>\n",
       "      <td>-0.081672</td>\n",
       "      <td>0.221898</td>\n",
       "    </tr>\n",
       "    <tr>\n",
       "      <th>glucose_conc</th>\n",
       "      <td>0.129459</td>\n",
       "      <td>1.000000</td>\n",
       "      <td>0.152590</td>\n",
       "      <td>0.057328</td>\n",
       "      <td>0.331357</td>\n",
       "      <td>0.221071</td>\n",
       "      <td>0.137337</td>\n",
       "      <td>0.263514</td>\n",
       "      <td>0.057328</td>\n",
       "      <td>0.466581</td>\n",
       "    </tr>\n",
       "    <tr>\n",
       "      <th>diastolic_bp</th>\n",
       "      <td>0.141282</td>\n",
       "      <td>0.152590</td>\n",
       "      <td>1.000000</td>\n",
       "      <td>0.207371</td>\n",
       "      <td>0.088933</td>\n",
       "      <td>0.281805</td>\n",
       "      <td>0.041265</td>\n",
       "      <td>0.239528</td>\n",
       "      <td>0.207371</td>\n",
       "      <td>0.065068</td>\n",
       "    </tr>\n",
       "    <tr>\n",
       "      <th>thickness</th>\n",
       "      <td>-0.081672</td>\n",
       "      <td>0.057328</td>\n",
       "      <td>0.207371</td>\n",
       "      <td>1.000000</td>\n",
       "      <td>0.436783</td>\n",
       "      <td>0.392573</td>\n",
       "      <td>0.183928</td>\n",
       "      <td>-0.113970</td>\n",
       "      <td>1.000000</td>\n",
       "      <td>0.074752</td>\n",
       "    </tr>\n",
       "    <tr>\n",
       "      <th>insulin</th>\n",
       "      <td>-0.073535</td>\n",
       "      <td>0.331357</td>\n",
       "      <td>0.088933</td>\n",
       "      <td>0.436783</td>\n",
       "      <td>1.000000</td>\n",
       "      <td>0.197859</td>\n",
       "      <td>0.185071</td>\n",
       "      <td>-0.042163</td>\n",
       "      <td>0.436783</td>\n",
       "      <td>0.130548</td>\n",
       "    </tr>\n",
       "    <tr>\n",
       "      <th>bmi</th>\n",
       "      <td>0.017683</td>\n",
       "      <td>0.221071</td>\n",
       "      <td>0.281805</td>\n",
       "      <td>0.392573</td>\n",
       "      <td>0.197859</td>\n",
       "      <td>1.000000</td>\n",
       "      <td>0.140647</td>\n",
       "      <td>0.036242</td>\n",
       "      <td>0.392573</td>\n",
       "      <td>0.292695</td>\n",
       "    </tr>\n",
       "    <tr>\n",
       "      <th>diab_pred</th>\n",
       "      <td>-0.033523</td>\n",
       "      <td>0.137337</td>\n",
       "      <td>0.041265</td>\n",
       "      <td>0.183928</td>\n",
       "      <td>0.185071</td>\n",
       "      <td>0.140647</td>\n",
       "      <td>1.000000</td>\n",
       "      <td>0.033561</td>\n",
       "      <td>0.183928</td>\n",
       "      <td>0.173844</td>\n",
       "    </tr>\n",
       "    <tr>\n",
       "      <th>age</th>\n",
       "      <td>0.544341</td>\n",
       "      <td>0.263514</td>\n",
       "      <td>0.239528</td>\n",
       "      <td>-0.113970</td>\n",
       "      <td>-0.042163</td>\n",
       "      <td>0.036242</td>\n",
       "      <td>0.033561</td>\n",
       "      <td>1.000000</td>\n",
       "      <td>-0.113970</td>\n",
       "      <td>0.238356</td>\n",
       "    </tr>\n",
       "    <tr>\n",
       "      <th>skin</th>\n",
       "      <td>-0.081672</td>\n",
       "      <td>0.057328</td>\n",
       "      <td>0.207371</td>\n",
       "      <td>1.000000</td>\n",
       "      <td>0.436783</td>\n",
       "      <td>0.392573</td>\n",
       "      <td>0.183928</td>\n",
       "      <td>-0.113970</td>\n",
       "      <td>1.000000</td>\n",
       "      <td>0.074752</td>\n",
       "    </tr>\n",
       "    <tr>\n",
       "      <th>diabetes</th>\n",
       "      <td>0.221898</td>\n",
       "      <td>0.466581</td>\n",
       "      <td>0.065068</td>\n",
       "      <td>0.074752</td>\n",
       "      <td>0.130548</td>\n",
       "      <td>0.292695</td>\n",
       "      <td>0.173844</td>\n",
       "      <td>0.238356</td>\n",
       "      <td>0.074752</td>\n",
       "      <td>1.000000</td>\n",
       "    </tr>\n",
       "  </tbody>\n",
       "</table>\n",
       "</div>"
      ],
      "text/plain": [
       "              num_preg  glucose_conc  diastolic_bp  thickness   insulin  \\\n",
       "num_preg      1.000000      0.129459      0.141282  -0.081672 -0.073535   \n",
       "glucose_conc  0.129459      1.000000      0.152590   0.057328  0.331357   \n",
       "diastolic_bp  0.141282      0.152590      1.000000   0.207371  0.088933   \n",
       "thickness    -0.081672      0.057328      0.207371   1.000000  0.436783   \n",
       "insulin      -0.073535      0.331357      0.088933   0.436783  1.000000   \n",
       "bmi           0.017683      0.221071      0.281805   0.392573  0.197859   \n",
       "diab_pred    -0.033523      0.137337      0.041265   0.183928  0.185071   \n",
       "age           0.544341      0.263514      0.239528  -0.113970 -0.042163   \n",
       "skin         -0.081672      0.057328      0.207371   1.000000  0.436783   \n",
       "diabetes      0.221898      0.466581      0.065068   0.074752  0.130548   \n",
       "\n",
       "                   bmi  diab_pred       age      skin  diabetes  \n",
       "num_preg      0.017683  -0.033523  0.544341 -0.081672  0.221898  \n",
       "glucose_conc  0.221071   0.137337  0.263514  0.057328  0.466581  \n",
       "diastolic_bp  0.281805   0.041265  0.239528  0.207371  0.065068  \n",
       "thickness     0.392573   0.183928 -0.113970  1.000000  0.074752  \n",
       "insulin       0.197859   0.185071 -0.042163  0.436783  0.130548  \n",
       "bmi           1.000000   0.140647  0.036242  0.392573  0.292695  \n",
       "diab_pred     0.140647   1.000000  0.033561  0.183928  0.173844  \n",
       "age           0.036242   0.033561  1.000000 -0.113970  0.238356  \n",
       "skin          0.392573   0.183928 -0.113970  1.000000  0.074752  \n",
       "diabetes      0.292695   0.173844  0.238356  0.074752  1.000000  "
      ]
     },
     "execution_count": 8,
     "metadata": {},
     "output_type": "execute_result"
    }
   ],
   "source": [
    "data.corr()\n",
    "\n",
    "#corr between -1 to +1"
   ]
  },
  {
   "cell_type": "code",
   "execution_count": 9,
   "id": "7fdd2324",
   "metadata": {
    "execution": {
     "iopub.execute_input": "2022-01-28T14:20:49.095730Z",
     "iopub.status.busy": "2022-01-28T14:20:49.094683Z",
     "iopub.status.idle": "2022-01-28T14:20:49.098174Z",
     "shell.execute_reply": "2022-01-28T14:20:49.097586Z",
     "shell.execute_reply.started": "2022-01-28T14:19:12.217513Z"
    },
    "papermill": {
     "duration": 0.033011,
     "end_time": "2022-01-28T14:20:49.098328",
     "exception": false,
     "start_time": "2022-01-28T14:20:49.065317",
     "status": "completed"
    },
    "tags": []
   },
   "outputs": [],
   "source": [
    "#Convert Diabetes (Output feature to 0 and 1 from true and false)\n",
    "#create mapping function\n",
    "\n",
    "diabetes_map={True:1,False:0}"
   ]
  },
  {
   "cell_type": "code",
   "execution_count": 10,
   "id": "51f6fa90",
   "metadata": {
    "execution": {
     "iopub.execute_input": "2022-01-28T14:20:49.160486Z",
     "iopub.status.busy": "2022-01-28T14:20:49.159281Z",
     "iopub.status.idle": "2022-01-28T14:20:49.162620Z",
     "shell.execute_reply": "2022-01-28T14:20:49.161938Z",
     "shell.execute_reply.started": "2022-01-28T14:19:12.223127Z"
    },
    "papermill": {
     "duration": 0.040672,
     "end_time": "2022-01-28T14:20:49.162772",
     "exception": false,
     "start_time": "2022-01-28T14:20:49.122100",
     "status": "completed"
    },
    "tags": []
   },
   "outputs": [],
   "source": [
    "#replace actual with mapped values \n",
    "\n",
    "data['diabetes']=data['diabetes'].map(diabetes_map)"
   ]
  },
  {
   "cell_type": "code",
   "execution_count": 11,
   "id": "05da8b82",
   "metadata": {
    "execution": {
     "iopub.execute_input": "2022-01-28T14:20:49.214607Z",
     "iopub.status.busy": "2022-01-28T14:20:49.213806Z",
     "iopub.status.idle": "2022-01-28T14:20:49.231967Z",
     "shell.execute_reply": "2022-01-28T14:20:49.231390Z",
     "shell.execute_reply.started": "2022-01-28T14:19:12.239848Z"
    },
    "papermill": {
     "duration": 0.045688,
     "end_time": "2022-01-28T14:20:49.232155",
     "exception": false,
     "start_time": "2022-01-28T14:20:49.186467",
     "status": "completed"
    },
    "tags": []
   },
   "outputs": [
    {
     "data": {
      "text/html": [
       "<div>\n",
       "<style scoped>\n",
       "    .dataframe tbody tr th:only-of-type {\n",
       "        vertical-align: middle;\n",
       "    }\n",
       "\n",
       "    .dataframe tbody tr th {\n",
       "        vertical-align: top;\n",
       "    }\n",
       "\n",
       "    .dataframe thead th {\n",
       "        text-align: right;\n",
       "    }\n",
       "</style>\n",
       "<table border=\"1\" class=\"dataframe\">\n",
       "  <thead>\n",
       "    <tr style=\"text-align: right;\">\n",
       "      <th></th>\n",
       "      <th>num_preg</th>\n",
       "      <th>glucose_conc</th>\n",
       "      <th>diastolic_bp</th>\n",
       "      <th>thickness</th>\n",
       "      <th>insulin</th>\n",
       "      <th>bmi</th>\n",
       "      <th>diab_pred</th>\n",
       "      <th>age</th>\n",
       "      <th>skin</th>\n",
       "      <th>diabetes</th>\n",
       "    </tr>\n",
       "  </thead>\n",
       "  <tbody>\n",
       "    <tr>\n",
       "      <th>0</th>\n",
       "      <td>6</td>\n",
       "      <td>148</td>\n",
       "      <td>72</td>\n",
       "      <td>35</td>\n",
       "      <td>0</td>\n",
       "      <td>33.6</td>\n",
       "      <td>0.627</td>\n",
       "      <td>50</td>\n",
       "      <td>1.3790</td>\n",
       "      <td>1</td>\n",
       "    </tr>\n",
       "    <tr>\n",
       "      <th>1</th>\n",
       "      <td>1</td>\n",
       "      <td>85</td>\n",
       "      <td>66</td>\n",
       "      <td>29</td>\n",
       "      <td>0</td>\n",
       "      <td>26.6</td>\n",
       "      <td>0.351</td>\n",
       "      <td>31</td>\n",
       "      <td>1.1426</td>\n",
       "      <td>0</td>\n",
       "    </tr>\n",
       "    <tr>\n",
       "      <th>2</th>\n",
       "      <td>8</td>\n",
       "      <td>183</td>\n",
       "      <td>64</td>\n",
       "      <td>0</td>\n",
       "      <td>0</td>\n",
       "      <td>23.3</td>\n",
       "      <td>0.672</td>\n",
       "      <td>32</td>\n",
       "      <td>0.0000</td>\n",
       "      <td>1</td>\n",
       "    </tr>\n",
       "    <tr>\n",
       "      <th>3</th>\n",
       "      <td>1</td>\n",
       "      <td>89</td>\n",
       "      <td>66</td>\n",
       "      <td>23</td>\n",
       "      <td>94</td>\n",
       "      <td>28.1</td>\n",
       "      <td>0.167</td>\n",
       "      <td>21</td>\n",
       "      <td>0.9062</td>\n",
       "      <td>0</td>\n",
       "    </tr>\n",
       "    <tr>\n",
       "      <th>4</th>\n",
       "      <td>0</td>\n",
       "      <td>137</td>\n",
       "      <td>40</td>\n",
       "      <td>35</td>\n",
       "      <td>168</td>\n",
       "      <td>43.1</td>\n",
       "      <td>2.288</td>\n",
       "      <td>33</td>\n",
       "      <td>1.3790</td>\n",
       "      <td>1</td>\n",
       "    </tr>\n",
       "    <tr>\n",
       "      <th>5</th>\n",
       "      <td>5</td>\n",
       "      <td>116</td>\n",
       "      <td>74</td>\n",
       "      <td>0</td>\n",
       "      <td>0</td>\n",
       "      <td>25.6</td>\n",
       "      <td>0.201</td>\n",
       "      <td>30</td>\n",
       "      <td>0.0000</td>\n",
       "      <td>0</td>\n",
       "    </tr>\n",
       "    <tr>\n",
       "      <th>6</th>\n",
       "      <td>3</td>\n",
       "      <td>78</td>\n",
       "      <td>50</td>\n",
       "      <td>32</td>\n",
       "      <td>88</td>\n",
       "      <td>31.0</td>\n",
       "      <td>0.248</td>\n",
       "      <td>26</td>\n",
       "      <td>1.2608</td>\n",
       "      <td>1</td>\n",
       "    </tr>\n",
       "    <tr>\n",
       "      <th>7</th>\n",
       "      <td>10</td>\n",
       "      <td>115</td>\n",
       "      <td>0</td>\n",
       "      <td>0</td>\n",
       "      <td>0</td>\n",
       "      <td>35.3</td>\n",
       "      <td>0.134</td>\n",
       "      <td>29</td>\n",
       "      <td>0.0000</td>\n",
       "      <td>0</td>\n",
       "    </tr>\n",
       "    <tr>\n",
       "      <th>8</th>\n",
       "      <td>2</td>\n",
       "      <td>197</td>\n",
       "      <td>70</td>\n",
       "      <td>45</td>\n",
       "      <td>543</td>\n",
       "      <td>30.5</td>\n",
       "      <td>0.158</td>\n",
       "      <td>53</td>\n",
       "      <td>1.7730</td>\n",
       "      <td>1</td>\n",
       "    </tr>\n",
       "    <tr>\n",
       "      <th>9</th>\n",
       "      <td>8</td>\n",
       "      <td>125</td>\n",
       "      <td>96</td>\n",
       "      <td>0</td>\n",
       "      <td>0</td>\n",
       "      <td>0.0</td>\n",
       "      <td>0.232</td>\n",
       "      <td>54</td>\n",
       "      <td>0.0000</td>\n",
       "      <td>1</td>\n",
       "    </tr>\n",
       "  </tbody>\n",
       "</table>\n",
       "</div>"
      ],
      "text/plain": [
       "   num_preg  glucose_conc  diastolic_bp  thickness  insulin   bmi  diab_pred  \\\n",
       "0         6           148            72         35        0  33.6      0.627   \n",
       "1         1            85            66         29        0  26.6      0.351   \n",
       "2         8           183            64          0        0  23.3      0.672   \n",
       "3         1            89            66         23       94  28.1      0.167   \n",
       "4         0           137            40         35      168  43.1      2.288   \n",
       "5         5           116            74          0        0  25.6      0.201   \n",
       "6         3            78            50         32       88  31.0      0.248   \n",
       "7        10           115             0          0        0  35.3      0.134   \n",
       "8         2           197            70         45      543  30.5      0.158   \n",
       "9         8           125            96          0        0   0.0      0.232   \n",
       "\n",
       "   age    skin  diabetes  \n",
       "0   50  1.3790         1  \n",
       "1   31  1.1426         0  \n",
       "2   32  0.0000         1  \n",
       "3   21  0.9062         0  \n",
       "4   33  1.3790         1  \n",
       "5   30  0.0000         0  \n",
       "6   26  1.2608         1  \n",
       "7   29  0.0000         0  \n",
       "8   53  1.7730         1  \n",
       "9   54  0.0000         1  "
      ]
     },
     "execution_count": 11,
     "metadata": {},
     "output_type": "execute_result"
    }
   ],
   "source": [
    "data.head(10)"
   ]
  },
  {
   "cell_type": "code",
   "execution_count": 12,
   "id": "ea70c6dd",
   "metadata": {
    "execution": {
     "iopub.execute_input": "2022-01-28T14:20:49.291635Z",
     "iopub.status.busy": "2022-01-28T14:20:49.290875Z",
     "iopub.status.idle": "2022-01-28T14:20:49.293886Z",
     "shell.execute_reply": "2022-01-28T14:20:49.293344Z",
     "shell.execute_reply.started": "2022-01-28T14:19:12.261528Z"
    },
    "papermill": {
     "duration": 0.036527,
     "end_time": "2022-01-28T14:20:49.294055",
     "exception": false,
     "start_time": "2022-01-28T14:20:49.257528",
     "status": "completed"
    },
    "tags": []
   },
   "outputs": [],
   "source": [
    "#Check if data set is balanced or not \n",
    "diabetes_true_count=len(data.loc[data['diabetes']==True])\n",
    "diabetes_false_count=len(data.loc[data['diabetes']==False])"
   ]
  },
  {
   "cell_type": "code",
   "execution_count": 13,
   "id": "6f2cf5b9",
   "metadata": {
    "execution": {
     "iopub.execute_input": "2022-01-28T14:20:49.354464Z",
     "iopub.status.busy": "2022-01-28T14:20:49.353641Z",
     "iopub.status.idle": "2022-01-28T14:20:49.358038Z",
     "shell.execute_reply": "2022-01-28T14:20:49.357486Z",
     "shell.execute_reply.started": "2022-01-28T14:19:12.274069Z"
    },
    "papermill": {
     "duration": 0.037861,
     "end_time": "2022-01-28T14:20:49.358244",
     "exception": false,
     "start_time": "2022-01-28T14:20:49.320383",
     "status": "completed"
    },
    "tags": []
   },
   "outputs": [
    {
     "data": {
      "text/plain": [
       "(268, 500)"
      ]
     },
     "execution_count": 13,
     "metadata": {},
     "output_type": "execute_result"
    }
   ],
   "source": [
    "(diabetes_true_count,diabetes_false_count)\n",
    "#1:2 ratio "
   ]
  },
  {
   "cell_type": "code",
   "execution_count": 14,
   "id": "0654a453",
   "metadata": {
    "execution": {
     "iopub.execute_input": "2022-01-28T14:20:49.414661Z",
     "iopub.status.busy": "2022-01-28T14:20:49.413884Z",
     "iopub.status.idle": "2022-01-28T14:20:49.418473Z",
     "shell.execute_reply": "2022-01-28T14:20:49.417743Z",
     "shell.execute_reply.started": "2022-01-28T14:19:12.286796Z"
    },
    "papermill": {
     "duration": 0.035175,
     "end_time": "2022-01-28T14:20:49.418633",
     "exception": false,
     "start_time": "2022-01-28T14:20:49.383458",
     "status": "completed"
    },
    "tags": []
   },
   "outputs": [
    {
     "data": {
      "text/plain": [
       "Index(['num_preg', 'glucose_conc', 'diastolic_bp', 'thickness', 'insulin',\n",
       "       'bmi', 'diab_pred', 'age', 'skin', 'diabetes'],\n",
       "      dtype='object')"
      ]
     },
     "execution_count": 14,
     "metadata": {},
     "output_type": "execute_result"
    }
   ],
   "source": [
    "data.columns"
   ]
  },
  {
   "cell_type": "code",
   "execution_count": 15,
   "id": "db2ce7e5",
   "metadata": {
    "execution": {
     "iopub.execute_input": "2022-01-28T14:20:49.477813Z",
     "iopub.status.busy": "2022-01-28T14:20:49.475089Z",
     "iopub.status.idle": "2022-01-28T14:20:49.655541Z",
     "shell.execute_reply": "2022-01-28T14:20:49.654840Z",
     "shell.execute_reply.started": "2022-01-28T14:19:12.301963Z"
    },
    "papermill": {
     "duration": 0.209421,
     "end_time": "2022-01-28T14:20:49.655705",
     "exception": false,
     "start_time": "2022-01-28T14:20:49.446284",
     "status": "completed"
    },
    "tags": []
   },
   "outputs": [],
   "source": [
    "# Use Train Test Split \n",
    "\n",
    "from sklearn.model_selection import train_test_split\n",
    "feature_columns=['num_preg', 'glucose_conc', 'diastolic_bp', 'thickness', 'insulin','bmi', 'diab_pred', 'age', 'skin']\n",
    "predicted_class = ['diabetes']"
   ]
  },
  {
   "cell_type": "code",
   "execution_count": 16,
   "id": "0ecf723e",
   "metadata": {
    "execution": {
     "iopub.execute_input": "2022-01-28T14:20:49.717627Z",
     "iopub.status.busy": "2022-01-28T14:20:49.716547Z",
     "iopub.status.idle": "2022-01-28T14:20:49.719548Z",
     "shell.execute_reply": "2022-01-28T14:20:49.718943Z",
     "shell.execute_reply.started": "2022-01-28T14:19:12.315732Z"
    },
    "papermill": {
     "duration": 0.038145,
     "end_time": "2022-01-28T14:20:49.719692",
     "exception": false,
     "start_time": "2022-01-28T14:20:49.681547",
     "status": "completed"
    },
    "tags": []
   },
   "outputs": [],
   "source": [
    "X = data[feature_columns].values\n",
    "Y = data[predicted_class].values\n",
    "\n",
    "X_train, X_test, Y_train, Y_test = train_test_split(X, Y, test_size =0.20, random_state=10)"
   ]
  },
  {
   "cell_type": "code",
   "execution_count": 17,
   "id": "b810cc09",
   "metadata": {
    "execution": {
     "iopub.execute_input": "2022-01-28T14:20:49.775676Z",
     "iopub.status.busy": "2022-01-28T14:20:49.774663Z",
     "iopub.status.idle": "2022-01-28T14:20:49.792966Z",
     "shell.execute_reply": "2022-01-28T14:20:49.793597Z",
     "shell.execute_reply.started": "2022-01-28T14:19:12.332082Z"
    },
    "papermill": {
     "duration": 0.048574,
     "end_time": "2022-01-28T14:20:49.793782",
     "exception": false,
     "start_time": "2022-01-28T14:20:49.745208",
     "status": "completed"
    },
    "tags": []
   },
   "outputs": [
    {
     "name": "stdout",
     "output_type": "stream",
     "text": [
      "total number of rows : 768\n",
      "number of rows missing(zeros) num_preg: 111\n",
      "number of rows missing(zeros) glucose_conc: 5\n",
      "number of rows missing(zeros) diastolic_bp: 35\n",
      "number of rows missing(zeros) thickness: 227\n",
      "number of rows missing(zeros) insulin: 374\n",
      "number of rows missing(zeros) bmi: 11\n",
      "number of rows missing(zeros) diab_pred: 0\n",
      "number of rows missing(zeros) age: 0\n",
      "number of rows missing(zeros) skin: 227\n"
     ]
    }
   ],
   "source": [
    "#Rows which have zeros\n",
    "print(\"total number of rows : {0}\".format(len(data)))\n",
    "print(\"number of rows missing(zeros) num_preg: {0}\".format(len(data.loc[data['num_preg'] == 0])))\n",
    "print(\"number of rows missing(zeros) glucose_conc: {0}\".format(len(data.loc[data['glucose_conc'] == 0])))\n",
    "print(\"number of rows missing(zeros) diastolic_bp: {0}\".format(len(data.loc[data['diastolic_bp'] == 0])))\n",
    "print(\"number of rows missing(zeros) thickness: {0}\".format(len(data.loc[data['thickness'] == 0])))\n",
    "print(\"number of rows missing(zeros) insulin: {0}\".format(len(data.loc[data['insulin'] == 0])))\n",
    "print(\"number of rows missing(zeros) bmi: {0}\".format(len(data.loc[data['bmi'] == 0])))\n",
    "print(\"number of rows missing(zeros) diab_pred: {0}\".format(len(data.loc[data['diab_pred'] == 0])))\n",
    "print(\"number of rows missing(zeros) age: {0}\".format(len(data.loc[data['age'] == 0])))\n",
    "print(\"number of rows missing(zeros) skin: {0}\".format(len(data.loc[data['skin'] == 0])))"
   ]
  },
  {
   "cell_type": "code",
   "execution_count": 18,
   "id": "3647723c",
   "metadata": {
    "execution": {
     "iopub.execute_input": "2022-01-28T14:20:49.848494Z",
     "iopub.status.busy": "2022-01-28T14:20:49.847735Z",
     "iopub.status.idle": "2022-01-28T14:20:49.850624Z",
     "shell.execute_reply": "2022-01-28T14:20:49.851131Z",
     "shell.execute_reply.started": "2022-01-28T14:19:12.351367Z"
    },
    "papermill": {
     "duration": 0.032226,
     "end_time": "2022-01-28T14:20:49.851317",
     "exception": false,
     "start_time": "2022-01-28T14:20:49.819091",
     "status": "completed"
    },
    "tags": []
   },
   "outputs": [],
   "source": [
    "# from sklearn.preprocessing import Imputer -- Deprecated \n",
    "#Steps:\n",
    "#! pip install -U scikit-learn\n",
    "#pip install -U scikit-learn\n",
    "#Use SimpleImputer"
   ]
  },
  {
   "cell_type": "code",
   "execution_count": 19,
   "id": "8129d67a",
   "metadata": {
    "execution": {
     "iopub.execute_input": "2022-01-28T14:20:49.905476Z",
     "iopub.status.busy": "2022-01-28T14:20:49.904694Z",
     "iopub.status.idle": "2022-01-28T14:20:50.069558Z",
     "shell.execute_reply": "2022-01-28T14:20:50.068888Z",
     "shell.execute_reply.started": "2022-01-28T14:19:12.363006Z"
    },
    "papermill": {
     "duration": 0.193123,
     "end_time": "2022-01-28T14:20:50.069709",
     "exception": false,
     "start_time": "2022-01-28T14:20:49.876586",
     "status": "completed"
    },
    "tags": []
   },
   "outputs": [],
   "source": [
    "#imputor, stats function to replace 0 value with mean value \n",
    "\n",
    "from sklearn.impute import SimpleImputer\n",
    "# imputer = SimpleImputer(missing_values=np.nan, strategy='mean')\n",
    "\n",
    "fill_values= SimpleImputer(missing_values=0, strategy=\"mean\")\n",
    "\n",
    "X_train = fill_values.fit_transform(X_train)\n",
    "X_test=fill_values.fit_transform(X_test)\n"
   ]
  },
  {
   "cell_type": "code",
   "execution_count": 20,
   "id": "0a61d45f",
   "metadata": {
    "execution": {
     "iopub.execute_input": "2022-01-28T14:20:50.125700Z",
     "iopub.status.busy": "2022-01-28T14:20:50.124932Z",
     "iopub.status.idle": "2022-01-28T14:20:50.449888Z",
     "shell.execute_reply": "2022-01-28T14:20:50.450434Z",
     "shell.execute_reply.started": "2022-01-28T14:19:12.377306Z"
    },
    "papermill": {
     "duration": 0.354964,
     "end_time": "2022-01-28T14:20:50.450618",
     "exception": false,
     "start_time": "2022-01-28T14:20:50.095654",
     "status": "completed"
    },
    "tags": []
   },
   "outputs": [
    {
     "data": {
      "text/plain": [
       "RandomForestClassifier(random_state=10)"
      ]
     },
     "execution_count": 20,
     "metadata": {},
     "output_type": "execute_result"
    }
   ],
   "source": [
    "from sklearn.ensemble import RandomForestClassifier\n",
    "random_forest_model= RandomForestClassifier(random_state=10)\n",
    "\n",
    "random_forest_model.fit(X_train,Y_train.ravel())"
   ]
  },
  {
   "cell_type": "code",
   "execution_count": 21,
   "id": "28c2dcd4",
   "metadata": {
    "execution": {
     "iopub.execute_input": "2022-01-28T14:20:50.510400Z",
     "iopub.status.busy": "2022-01-28T14:20:50.509671Z",
     "iopub.status.idle": "2022-01-28T14:20:50.527153Z",
     "shell.execute_reply": "2022-01-28T14:20:50.526538Z",
     "shell.execute_reply.started": "2022-01-28T14:19:12.592413Z"
    },
    "papermill": {
     "duration": 0.050929,
     "end_time": "2022-01-28T14:20:50.527331",
     "exception": false,
     "start_time": "2022-01-28T14:20:50.476402",
     "status": "completed"
    },
    "tags": []
   },
   "outputs": [
    {
     "name": "stdout",
     "output_type": "stream",
     "text": [
      "Accuracy is =0.734\n"
     ]
    }
   ],
   "source": [
    "predict_train_data = random_forest_model.predict(X_test)\n",
    "\n",
    "from sklearn import metrics\n",
    "\n",
    "print (\"Accuracy is ={0:.3f}\".format(metrics.accuracy_score(Y_test,predict_train_data)))"
   ]
  },
  {
   "cell_type": "code",
   "execution_count": null,
   "id": "f99f0701",
   "metadata": {
    "papermill": {
     "duration": 0.025635,
     "end_time": "2022-01-28T14:20:50.579287",
     "exception": false,
     "start_time": "2022-01-28T14:20:50.553652",
     "status": "completed"
    },
    "tags": []
   },
   "outputs": [],
   "source": []
  }
 ],
 "metadata": {
  "kernelspec": {
   "display_name": "Python 3",
   "language": "python",
   "name": "python3"
  },
  "language_info": {
   "codemirror_mode": {
    "name": "ipython",
    "version": 3
   },
   "file_extension": ".py",
   "mimetype": "text/x-python",
   "name": "python",
   "nbconvert_exporter": "python",
   "pygments_lexer": "ipython3",
   "version": "3.7.12"
  },
  "papermill": {
   "default_parameters": {},
   "duration": 15.45317,
   "end_time": "2022-01-28T14:20:51.517832",
   "environment_variables": {},
   "exception": null,
   "input_path": "__notebook__.ipynb",
   "output_path": "__notebook__.ipynb",
   "parameters": {},
   "start_time": "2022-01-28T14:20:36.064662",
   "version": "2.3.3"
  }
 },
 "nbformat": 4,
 "nbformat_minor": 5
}
